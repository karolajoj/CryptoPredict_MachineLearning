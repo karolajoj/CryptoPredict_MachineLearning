{
 "cells": [
  {
   "cell_type": "markdown",
   "metadata": {},
   "source": [
    "# **Pobieranie danych**"
   ]
  },
  {
   "cell_type": "code",
   "execution_count": 1,
   "metadata": {},
   "outputs": [],
   "source": [
    "# from binance import Client\n",
    "# import pandas as pd\n",
    "# import os\n",
    "\n",
    "# def get_price_data(symbol, timeframe, start, end=None):\n",
    "#     klines = Client().get_historical_klines(symbol, timeframe, start, end)\n",
    "#     data = pd.DataFrame(klines, columns=['Timestamp', 'Open', 'High', 'Low', 'Close', 'Volume', 'Close_Time', 'Quote_Asset_Volume', 'Number_Of_Trades', 'Taker_Buy_Base', 'Taker_Buy_Quote', 'Ignore'])\n",
    "#     data = data[['Timestamp', 'Open', 'High', 'Low', 'Close', 'Volume']]\n",
    "#     data['Timestamp'] = pd.to_datetime(data['Timestamp'], unit='ms')\n",
    "#     data['Open'] = pd.to_numeric(data['Open'])\n",
    "#     data['High'] = pd.to_numeric(data['High'])\n",
    "#     data['Low'] = pd.to_numeric(data['Low'])\n",
    "#     data['Close'] = pd.to_numeric(data['Close'])\n",
    "#     data['Volume'] = pd.to_numeric(data['Volume'])\n",
    "#     data.set_index('Timestamp', inplace=True)\n",
    "#     return data\n",
    "\n",
    "# symbol = \"BTCUSDT\"\n",
    "# timeframe = Client.KLINE_INTERVAL_1DAY \n",
    "# start_date = \"2019.09.08\" # Earliest available data from Binance\n",
    "# end_date = \"2024.12.31\"\n",
    "\n",
    "# folder = f\"./data/{timeframe}\"\n",
    "# os.makedirs(folder, exist_ok=True)\n",
    "# file_path = f\"{folder}/{start_date}-{end_date}-{symbol}.csv\"\n",
    "\n",
    "# if os.path.exists(file_path):\n",
    "#     print(f\"Plik {file_path} już istnieje. Pomijam pobieranie.\")\n",
    "# else:\n",
    "#     df = get_price_data(symbol, timeframe, start_date, end_date)\n",
    "#     df.to_csv(file_path)\n",
    "#     print(f\"Pobrano i zapisano dane dla {symbol}: {file_path}\")"
   ]
  },
  {
   "cell_type": "markdown",
   "metadata": {},
   "source": [
    "# **Import**"
   ]
  },
  {
   "cell_type": "code",
   "execution_count": 2,
   "metadata": {},
   "outputs": [],
   "source": [
    "import os\n",
    "\n",
    "import numpy as np\n",
    "import pandas as pd\n",
    "import tensorflow as tf\n",
    "import matplotlib.pyplot as plt\n",
    "\n",
    "from sklearn.ensemble import RandomForestRegressor, RandomForestClassifier, GradientBoostingRegressor, GradientBoostingClassifier\n",
    "from sklearn.metrics import mean_squared_error, mean_absolute_error, r2_score, root_mean_squared_error\n",
    "from sklearn.metrics import accuracy_score, precision_score, recall_score, f1_score\n",
    "\n",
    "from sklearn.preprocessing import MinMaxScaler\n",
    "from sklearn.inspection import permutation_importance\n",
    "\n",
    "import ta\n",
    "\n",
    "from tensorflow.keras.utils import to_categorical # type: ignore\n",
    "from keras.models import Sequential # type: ignore\n",
    "from keras.layers import LSTM, GRU, Dense, Input # type: ignore\n",
    "\n",
    "from enum import Enum\n",
    "from tqdm.notebook import tqdm"
   ]
  },
  {
   "cell_type": "code",
   "execution_count": 3,
   "metadata": {},
   "outputs": [],
   "source": [
    "pd.set_option('display.max_columns', None)"
   ]
  },
  {
   "cell_type": "markdown",
   "metadata": {},
   "source": [
    "# **Przygotowanie danych**"
   ]
  },
  {
   "cell_type": "markdown",
   "metadata": {},
   "source": [
    "## Ładowanie danych z pliku"
   ]
  },
  {
   "cell_type": "code",
   "execution_count": 32,
   "metadata": {},
   "outputs": [
    {
     "data": {
      "text/html": [
       "<div>\n",
       "<style scoped>\n",
       "    .dataframe tbody tr th:only-of-type {\n",
       "        vertical-align: middle;\n",
       "    }\n",
       "\n",
       "    .dataframe tbody tr th {\n",
       "        vertical-align: top;\n",
       "    }\n",
       "\n",
       "    .dataframe thead th {\n",
       "        text-align: right;\n",
       "    }\n",
       "</style>\n",
       "<table border=\"1\" class=\"dataframe\">\n",
       "  <thead>\n",
       "    <tr style=\"text-align: right;\">\n",
       "      <th></th>\n",
       "      <th>Open</th>\n",
       "      <th>High</th>\n",
       "      <th>Low</th>\n",
       "      <th>Close</th>\n",
       "      <th>Volume</th>\n",
       "    </tr>\n",
       "    <tr>\n",
       "      <th>Timestamp</th>\n",
       "      <th></th>\n",
       "      <th></th>\n",
       "      <th></th>\n",
       "      <th></th>\n",
       "      <th></th>\n",
       "    </tr>\n",
       "  </thead>\n",
       "  <tbody>\n",
       "    <tr>\n",
       "      <th>2019-09-08</th>\n",
       "      <td>10000.00</td>\n",
       "      <td>10412.65</td>\n",
       "      <td>10000.00</td>\n",
       "      <td>10391.63</td>\n",
       "      <td>3096.291</td>\n",
       "    </tr>\n",
       "    <tr>\n",
       "      <th>2019-09-09</th>\n",
       "      <td>10316.62</td>\n",
       "      <td>10475.54</td>\n",
       "      <td>10077.22</td>\n",
       "      <td>10307.00</td>\n",
       "      <td>14824.373</td>\n",
       "    </tr>\n",
       "    <tr>\n",
       "      <th>2019-09-10</th>\n",
       "      <td>10307.00</td>\n",
       "      <td>10382.97</td>\n",
       "      <td>9940.87</td>\n",
       "      <td>10102.02</td>\n",
       "      <td>9068.955</td>\n",
       "    </tr>\n",
       "    <tr>\n",
       "      <th>2019-09-11</th>\n",
       "      <td>10094.27</td>\n",
       "      <td>10293.11</td>\n",
       "      <td>9884.31</td>\n",
       "      <td>10159.55</td>\n",
       "      <td>10897.922</td>\n",
       "    </tr>\n",
       "    <tr>\n",
       "      <th>2019-09-12</th>\n",
       "      <td>10163.06</td>\n",
       "      <td>10450.13</td>\n",
       "      <td>10042.12</td>\n",
       "      <td>10415.13</td>\n",
       "      <td>15609.634</td>\n",
       "    </tr>\n",
       "  </tbody>\n",
       "</table>\n",
       "</div>"
      ],
      "text/plain": [
       "                Open      High       Low     Close     Volume\n",
       "Timestamp                                                    \n",
       "2019-09-08  10000.00  10412.65  10000.00  10391.63   3096.291\n",
       "2019-09-09  10316.62  10475.54  10077.22  10307.00  14824.373\n",
       "2019-09-10  10307.00  10382.97   9940.87  10102.02   9068.955\n",
       "2019-09-11  10094.27  10293.11   9884.31  10159.55  10897.922\n",
       "2019-09-12  10163.06  10450.13  10042.12  10415.13  15609.634"
      ]
     },
     "execution_count": 32,
     "metadata": {},
     "output_type": "execute_result"
    }
   ],
   "source": [
    "file_path = \"./2019.09.08-2024.12.31-BTCUSDT.csv\"\n",
    "\n",
    "if os.path.exists(file_path):\n",
    "    df = pd.read_csv(file_path)\n",
    "    df.set_index(\"Timestamp\", inplace=True)\n",
    "    df.index = pd.to_datetime(df.index, errors=\"coerce\")\n",
    "    # df = df[df.index.notnull()]\n",
    "else:\n",
    "    print(f\"Plik {file_path} nie istnieje.\")\n",
    "\n",
    "df.head()"
   ]
  },
  {
   "cell_type": "code",
   "execution_count": 33,
   "metadata": {},
   "outputs": [
    {
     "data": {
      "text/plain": [
       "(1942, 5)"
      ]
     },
     "execution_count": 33,
     "metadata": {},
     "output_type": "execute_result"
    }
   ],
   "source": [
    "df.shape"
   ]
  },
  {
   "cell_type": "markdown",
   "metadata": {},
   "source": [
    "## Dodanie wskaźników technicznych (RSI, EMA, SMA)"
   ]
  },
  {
   "cell_type": "code",
   "execution_count": 5,
   "metadata": {},
   "outputs": [
    {
     "data": {
      "text/html": [
       "<div>\n",
       "<style scoped>\n",
       "    .dataframe tbody tr th:only-of-type {\n",
       "        vertical-align: middle;\n",
       "    }\n",
       "\n",
       "    .dataframe tbody tr th {\n",
       "        vertical-align: top;\n",
       "    }\n",
       "\n",
       "    .dataframe thead th {\n",
       "        text-align: right;\n",
       "    }\n",
       "</style>\n",
       "<table border=\"1\" class=\"dataframe\">\n",
       "  <thead>\n",
       "    <tr style=\"text-align: right;\">\n",
       "      <th></th>\n",
       "      <th>Open</th>\n",
       "      <th>High</th>\n",
       "      <th>Low</th>\n",
       "      <th>Close</th>\n",
       "      <th>Volume</th>\n",
       "      <th>EMA</th>\n",
       "      <th>SMA</th>\n",
       "      <th>RSI</th>\n",
       "    </tr>\n",
       "    <tr>\n",
       "      <th>Timestamp</th>\n",
       "      <th></th>\n",
       "      <th></th>\n",
       "      <th></th>\n",
       "      <th></th>\n",
       "      <th></th>\n",
       "      <th></th>\n",
       "      <th></th>\n",
       "      <th></th>\n",
       "    </tr>\n",
       "  </thead>\n",
       "  <tbody>\n",
       "    <tr>\n",
       "      <th>2019-09-08</th>\n",
       "      <td>10000.00</td>\n",
       "      <td>10412.65</td>\n",
       "      <td>10000.00</td>\n",
       "      <td>10391.63</td>\n",
       "      <td>3096.291</td>\n",
       "      <td>0.000000</td>\n",
       "      <td>0.000</td>\n",
       "      <td>0.0</td>\n",
       "    </tr>\n",
       "    <tr>\n",
       "      <th>2019-09-09</th>\n",
       "      <td>10316.62</td>\n",
       "      <td>10475.54</td>\n",
       "      <td>10077.22</td>\n",
       "      <td>10307.00</td>\n",
       "      <td>14824.373</td>\n",
       "      <td>0.000000</td>\n",
       "      <td>0.000</td>\n",
       "      <td>0.0</td>\n",
       "    </tr>\n",
       "    <tr>\n",
       "      <th>2019-09-10</th>\n",
       "      <td>10307.00</td>\n",
       "      <td>10382.97</td>\n",
       "      <td>9940.87</td>\n",
       "      <td>10102.02</td>\n",
       "      <td>9068.955</td>\n",
       "      <td>0.000000</td>\n",
       "      <td>0.000</td>\n",
       "      <td>0.0</td>\n",
       "    </tr>\n",
       "    <tr>\n",
       "      <th>2019-09-11</th>\n",
       "      <td>10094.27</td>\n",
       "      <td>10293.11</td>\n",
       "      <td>9884.31</td>\n",
       "      <td>10159.55</td>\n",
       "      <td>10897.922</td>\n",
       "      <td>0.000000</td>\n",
       "      <td>0.000</td>\n",
       "      <td>0.0</td>\n",
       "    </tr>\n",
       "    <tr>\n",
       "      <th>2019-09-12</th>\n",
       "      <td>10163.06</td>\n",
       "      <td>10450.13</td>\n",
       "      <td>10042.12</td>\n",
       "      <td>10415.13</td>\n",
       "      <td>15609.634</td>\n",
       "      <td>10296.626296</td>\n",
       "      <td>10275.066</td>\n",
       "      <td>0.0</td>\n",
       "    </tr>\n",
       "  </tbody>\n",
       "</table>\n",
       "</div>"
      ],
      "text/plain": [
       "                Open      High       Low     Close     Volume           EMA  \\\n",
       "Timestamp                                                                     \n",
       "2019-09-08  10000.00  10412.65  10000.00  10391.63   3096.291      0.000000   \n",
       "2019-09-09  10316.62  10475.54  10077.22  10307.00  14824.373      0.000000   \n",
       "2019-09-10  10307.00  10382.97   9940.87  10102.02   9068.955      0.000000   \n",
       "2019-09-11  10094.27  10293.11   9884.31  10159.55  10897.922      0.000000   \n",
       "2019-09-12  10163.06  10450.13  10042.12  10415.13  15609.634  10296.626296   \n",
       "\n",
       "                  SMA  RSI  \n",
       "Timestamp                   \n",
       "2019-09-08      0.000  0.0  \n",
       "2019-09-09      0.000  0.0  \n",
       "2019-09-10      0.000  0.0  \n",
       "2019-09-11      0.000  0.0  \n",
       "2019-09-12  10275.066  0.0  "
      ]
     },
     "execution_count": 5,
     "metadata": {},
     "output_type": "execute_result"
    }
   ],
   "source": [
    "df[\"EMA\"] = ta.trend.ema_indicator(df[\"Close\"], window=5)\n",
    "df[\"SMA\"] = ta.trend.sma_indicator(df[\"Close\"], window=5)\n",
    "df[\"RSI\"] = ta.momentum.rsi(df[\"Close\"], window=14)\n",
    "df.fillna(0, inplace=True)\n",
    "df.head()"
   ]
  },
  {
   "cell_type": "markdown",
   "metadata": {},
   "source": [
    "## Ustawienie kolumny do przewidywania"
   ]
  },
  {
   "cell_type": "code",
   "execution_count": 6,
   "metadata": {},
   "outputs": [],
   "source": [
    "class PredictionType(Enum):\n",
    "    CURRENT_CLOSE_PRICE = \"CurrentClosePrice\"\n",
    "    FUTURE_CLOSE_PRICE = \"FutureClosePrice\"\n",
    "    FUTURE_PRICE_CHANGE = \"FuturePriceChange\"\n",
    "    TREND_DIRECTION = \"TrendDirection\" \n",
    "\n",
    "prediction_type = PredictionType.FUTURE_CLOSE_PRICE"
   ]
  },
  {
   "cell_type": "code",
   "execution_count": 7,
   "metadata": {},
   "outputs": [
    {
     "data": {
      "text/html": [
       "<div>\n",
       "<style scoped>\n",
       "    .dataframe tbody tr th:only-of-type {\n",
       "        vertical-align: middle;\n",
       "    }\n",
       "\n",
       "    .dataframe tbody tr th {\n",
       "        vertical-align: top;\n",
       "    }\n",
       "\n",
       "    .dataframe thead th {\n",
       "        text-align: right;\n",
       "    }\n",
       "</style>\n",
       "<table border=\"1\" class=\"dataframe\">\n",
       "  <thead>\n",
       "    <tr style=\"text-align: right;\">\n",
       "      <th></th>\n",
       "      <th>Open</th>\n",
       "      <th>High</th>\n",
       "      <th>Low</th>\n",
       "      <th>Close</th>\n",
       "      <th>Volume</th>\n",
       "      <th>EMA</th>\n",
       "      <th>SMA</th>\n",
       "      <th>RSI</th>\n",
       "      <th>Target</th>\n",
       "    </tr>\n",
       "    <tr>\n",
       "      <th>Timestamp</th>\n",
       "      <th></th>\n",
       "      <th></th>\n",
       "      <th></th>\n",
       "      <th></th>\n",
       "      <th></th>\n",
       "      <th></th>\n",
       "      <th></th>\n",
       "      <th></th>\n",
       "      <th></th>\n",
       "    </tr>\n",
       "  </thead>\n",
       "  <tbody>\n",
       "    <tr>\n",
       "      <th>2019-09-08</th>\n",
       "      <td>10000.00</td>\n",
       "      <td>10412.65</td>\n",
       "      <td>10000.00</td>\n",
       "      <td>10391.63</td>\n",
       "      <td>3096.291</td>\n",
       "      <td>0.000000</td>\n",
       "      <td>0.000</td>\n",
       "      <td>0.0</td>\n",
       "      <td>10307.00</td>\n",
       "    </tr>\n",
       "    <tr>\n",
       "      <th>2019-09-09</th>\n",
       "      <td>10316.62</td>\n",
       "      <td>10475.54</td>\n",
       "      <td>10077.22</td>\n",
       "      <td>10307.00</td>\n",
       "      <td>14824.373</td>\n",
       "      <td>0.000000</td>\n",
       "      <td>0.000</td>\n",
       "      <td>0.0</td>\n",
       "      <td>10102.02</td>\n",
       "    </tr>\n",
       "    <tr>\n",
       "      <th>2019-09-10</th>\n",
       "      <td>10307.00</td>\n",
       "      <td>10382.97</td>\n",
       "      <td>9940.87</td>\n",
       "      <td>10102.02</td>\n",
       "      <td>9068.955</td>\n",
       "      <td>0.000000</td>\n",
       "      <td>0.000</td>\n",
       "      <td>0.0</td>\n",
       "      <td>10159.55</td>\n",
       "    </tr>\n",
       "    <tr>\n",
       "      <th>2019-09-11</th>\n",
       "      <td>10094.27</td>\n",
       "      <td>10293.11</td>\n",
       "      <td>9884.31</td>\n",
       "      <td>10159.55</td>\n",
       "      <td>10897.922</td>\n",
       "      <td>0.000000</td>\n",
       "      <td>0.000</td>\n",
       "      <td>0.0</td>\n",
       "      <td>10415.13</td>\n",
       "    </tr>\n",
       "    <tr>\n",
       "      <th>2019-09-12</th>\n",
       "      <td>10163.06</td>\n",
       "      <td>10450.13</td>\n",
       "      <td>10042.12</td>\n",
       "      <td>10415.13</td>\n",
       "      <td>15609.634</td>\n",
       "      <td>10296.626296</td>\n",
       "      <td>10275.066</td>\n",
       "      <td>0.0</td>\n",
       "      <td>10341.34</td>\n",
       "    </tr>\n",
       "  </tbody>\n",
       "</table>\n",
       "</div>"
      ],
      "text/plain": [
       "                Open      High       Low     Close     Volume           EMA  \\\n",
       "Timestamp                                                                     \n",
       "2019-09-08  10000.00  10412.65  10000.00  10391.63   3096.291      0.000000   \n",
       "2019-09-09  10316.62  10475.54  10077.22  10307.00  14824.373      0.000000   \n",
       "2019-09-10  10307.00  10382.97   9940.87  10102.02   9068.955      0.000000   \n",
       "2019-09-11  10094.27  10293.11   9884.31  10159.55  10897.922      0.000000   \n",
       "2019-09-12  10163.06  10450.13  10042.12  10415.13  15609.634  10296.626296   \n",
       "\n",
       "                  SMA  RSI    Target  \n",
       "Timestamp                             \n",
       "2019-09-08      0.000  0.0  10307.00  \n",
       "2019-09-09      0.000  0.0  10102.02  \n",
       "2019-09-10      0.000  0.0  10159.55  \n",
       "2019-09-11      0.000  0.0  10415.13  \n",
       "2019-09-12  10275.066  0.0  10341.34  "
      ]
     },
     "execution_count": 7,
     "metadata": {},
     "output_type": "execute_result"
    }
   ],
   "source": [
    "future_trend_diff = (df[\"Close\"] - df[\"Open\"]).shift(-1) # Przewidywanie różnicy przyszłej ceny względem aktualnej\n",
    "\n",
    "if prediction_type == PredictionType.CURRENT_CLOSE_PRICE: # (Regresja)\n",
    "    # Błędne przewidywanie ceny zamknięcia aktualnej świecy (czyli model nauczy się funkcji identyczności do danej ceny zamknięcia)\n",
    "    df[\"Target\"] = df[\"Close\"].shift(0)\n",
    "    title = \"Current Close Price\" # Tytuł wykresu \n",
    "\n",
    "elif prediction_type == PredictionType.FUTURE_CLOSE_PRICE: # (Regresja)\n",
    "    # Przewidywanie przyszłej ceny zamknięcia\n",
    "    df[\"Target\"] = df[\"Close\"].shift(-1)\n",
    "    title = \"Future Close Price\"\n",
    "    \n",
    "elif prediction_type == PredictionType.FUTURE_PRICE_CHANGE: # (Regresja)\n",
    "     # Przewidywanie o ile cena wzrośnie lub spadnie\n",
    "    df[\"Target\"] = future_trend_diff\n",
    "    title = \"Price Change\"\n",
    "    \n",
    "elif prediction_type == PredictionType.TREND_DIRECTION: # (Klasyfikacja)\n",
    "    # Przewidywanie trendu rosnącego (1) lub malejącego (-1) \n",
    "    df[\"Target\"] = [1 if future_trend_diff.iloc[i] > 0 else -1 for i in range(len(df))]\n",
    "    title = \"Trend Direction\"\n",
    "\n",
    "df.dropna(inplace=True)\n",
    "df.head()"
   ]
  },
  {
   "cell_type": "markdown",
   "metadata": {},
   "source": [
    "## Skalowanie danych do zakresu [0, 1]"
   ]
  },
  {
   "cell_type": "code",
   "execution_count": 8,
   "metadata": {},
   "outputs": [
    {
     "data": {
      "text/html": [
       "<div>\n",
       "<style scoped>\n",
       "    .dataframe tbody tr th:only-of-type {\n",
       "        vertical-align: middle;\n",
       "    }\n",
       "\n",
       "    .dataframe tbody tr th {\n",
       "        vertical-align: top;\n",
       "    }\n",
       "\n",
       "    .dataframe thead th {\n",
       "        text-align: right;\n",
       "    }\n",
       "</style>\n",
       "<table border=\"1\" class=\"dataframe\">\n",
       "  <thead>\n",
       "    <tr style=\"text-align: right;\">\n",
       "      <th></th>\n",
       "      <th>Open</th>\n",
       "      <th>High</th>\n",
       "      <th>Low</th>\n",
       "      <th>Close</th>\n",
       "      <th>Volume</th>\n",
       "      <th>EMA</th>\n",
       "      <th>SMA</th>\n",
       "      <th>RSI</th>\n",
       "      <th>Target</th>\n",
       "    </tr>\n",
       "    <tr>\n",
       "      <th>Timestamp</th>\n",
       "      <th></th>\n",
       "      <th></th>\n",
       "      <th></th>\n",
       "      <th></th>\n",
       "      <th></th>\n",
       "      <th></th>\n",
       "      <th></th>\n",
       "      <th></th>\n",
       "      <th></th>\n",
       "    </tr>\n",
       "  </thead>\n",
       "  <tbody>\n",
       "    <tr>\n",
       "      <th>2019-09-08</th>\n",
       "      <td>0.051699</td>\n",
       "      <td>0.049040</td>\n",
       "      <td>0.062759</td>\n",
       "      <td>0.055542</td>\n",
       "      <td>0.000000</td>\n",
       "      <td>0.000000</td>\n",
       "      <td>0.00000</td>\n",
       "      <td>0.0</td>\n",
       "      <td>0.054707</td>\n",
       "    </tr>\n",
       "    <tr>\n",
       "      <th>2019-09-09</th>\n",
       "      <td>0.054824</td>\n",
       "      <td>0.049651</td>\n",
       "      <td>0.063519</td>\n",
       "      <td>0.054707</td>\n",
       "      <td>0.005686</td>\n",
       "      <td>0.000000</td>\n",
       "      <td>0.00000</td>\n",
       "      <td>0.0</td>\n",
       "      <td>0.052684</td>\n",
       "    </tr>\n",
       "    <tr>\n",
       "      <th>2019-09-10</th>\n",
       "      <td>0.054729</td>\n",
       "      <td>0.048752</td>\n",
       "      <td>0.062177</td>\n",
       "      <td>0.052684</td>\n",
       "      <td>0.002896</td>\n",
       "      <td>0.000000</td>\n",
       "      <td>0.00000</td>\n",
       "      <td>0.0</td>\n",
       "      <td>0.053251</td>\n",
       "    </tr>\n",
       "    <tr>\n",
       "      <th>2019-09-11</th>\n",
       "      <td>0.052629</td>\n",
       "      <td>0.047879</td>\n",
       "      <td>0.061620</td>\n",
       "      <td>0.053251</td>\n",
       "      <td>0.003783</td>\n",
       "      <td>0.000000</td>\n",
       "      <td>0.00000</td>\n",
       "      <td>0.0</td>\n",
       "      <td>0.055774</td>\n",
       "    </tr>\n",
       "    <tr>\n",
       "      <th>2019-09-12</th>\n",
       "      <td>0.053308</td>\n",
       "      <td>0.049404</td>\n",
       "      <td>0.063173</td>\n",
       "      <td>0.055774</td>\n",
       "      <td>0.006067</td>\n",
       "      <td>0.098846</td>\n",
       "      <td>0.09893</td>\n",
       "      <td>0.0</td>\n",
       "      <td>0.055046</td>\n",
       "    </tr>\n",
       "  </tbody>\n",
       "</table>\n",
       "</div>"
      ],
      "text/plain": [
       "                Open      High       Low     Close    Volume       EMA  \\\n",
       "Timestamp                                                                \n",
       "2019-09-08  0.051699  0.049040  0.062759  0.055542  0.000000  0.000000   \n",
       "2019-09-09  0.054824  0.049651  0.063519  0.054707  0.005686  0.000000   \n",
       "2019-09-10  0.054729  0.048752  0.062177  0.052684  0.002896  0.000000   \n",
       "2019-09-11  0.052629  0.047879  0.061620  0.053251  0.003783  0.000000   \n",
       "2019-09-12  0.053308  0.049404  0.063173  0.055774  0.006067  0.098846   \n",
       "\n",
       "                SMA  RSI    Target  \n",
       "Timestamp                           \n",
       "2019-09-08  0.00000  0.0  0.054707  \n",
       "2019-09-09  0.00000  0.0  0.052684  \n",
       "2019-09-10  0.00000  0.0  0.053251  \n",
       "2019-09-11  0.00000  0.0  0.055774  \n",
       "2019-09-12  0.09893  0.0  0.055046  "
      ]
     },
     "execution_count": 8,
     "metadata": {},
     "output_type": "execute_result"
    }
   ],
   "source": [
    "scaler = MinMaxScaler()\n",
    "df[df.columns] = scaler.fit_transform(df)\n",
    "df.head()"
   ]
  },
  {
   "cell_type": "markdown",
   "metadata": {},
   "source": [
    "## Podział danych"
   ]
  },
  {
   "cell_type": "code",
   "execution_count": 9,
   "metadata": {},
   "outputs": [
    {
     "name": "stdout",
     "output_type": "stream",
     "text": [
      "Zbiór treningowy (1358):\t2019-09-08 - 2023-05-27\n",
      "Zbiór walidacyjny (194):\t2023-05-28 - 2023-12-07\n",
      "Zbiór testowy (389):\t\t2023-12-08 - 2024-12-30\n",
      "\n",
      "Dla modeli LSTM i GRU:\n",
      "Zbiór treningowy (1348):\t2019-09-18 - 2023-05-27\n",
      "Zbiór walidacyjny (184):\t2023-06-07 - 2023-12-07\n",
      "Zbiór testowy (379):\t\t2023-12-18 - 2024-12-30\n"
     ]
    }
   ],
   "source": [
    "train_size = int(len(df) * 0.7)\n",
    "val_size = int(len(df) * 0.1)\n",
    "\n",
    "train_data = df.iloc[:train_size]\n",
    "val_data = df.iloc[train_size:train_size + val_size]\n",
    "test_data = df.iloc[train_size + val_size:]\n",
    "\n",
    "training_features = [col for col in df.columns if col != 'Target']\n",
    "\n",
    "# X_train = train_data[training_features].values\n",
    "# y_train = train_data['Target'].values\n",
    "\n",
    "# X_val = val_data[training_features].values\n",
    "# y_val = val_data['Target'].values\n",
    "\n",
    "# X_test = test_data[training_features].values\n",
    "# y_test = test_data['Target'].values\n",
    "\n",
    "# LSTM & GRU 3D data format:\n",
    "# [samples, timesteps, features]\n",
    "timesteps = 10 # Przewidywanie na podstawie ostatnich 10-ciu dni\n",
    "\n",
    "# Uwzglednienie tylko danych od timesteps\n",
    "X_train = train_data[training_features].iloc[timesteps:].values\n",
    "y_train = train_data['Target'].iloc[timesteps:].values\n",
    "\n",
    "X_val = val_data[training_features].iloc[timesteps:].values\n",
    "y_val = val_data['Target'].iloc[timesteps:].values\n",
    "\n",
    "X_test = test_data[training_features].iloc[timesteps:].values\n",
    "y_test = test_data['Target'].iloc[timesteps:].values\n",
    "\n",
    "X_train_lstm = np.array([train_data.iloc[i-timesteps:i, :len(training_features)].copy() for i in range(timesteps, len(train_data))])\n",
    "X_val_lstm = np.array([val_data.iloc[i-timesteps:i, :len(training_features)].copy() for i in range(timesteps, len(val_data))])\n",
    "X_test_lstm = np.array([test_data.iloc[i-timesteps:i, :len(training_features)].copy() for i in range(timesteps, len(test_data))])\n",
    "# y_train_lstm = y_train[timesteps:]  # Pominięcie pierwszych `timesteps` dni, ponieważ nie mają one odpowiadającej wartości docelowej\n",
    "# y_val_lstm = y_val[timesteps:]\n",
    "# y_test_lstm = y_test[timesteps:]\n",
    "y_train_lstm = y_train\n",
    "y_val_lstm = y_val\n",
    "y_test_lstm = y_test\n",
    "\n",
    "if prediction_type == PredictionType.TREND_DIRECTION:\n",
    "    y_train_lstm = to_categorical(y_train_lstm, num_classes=2)\n",
    "    y_val_lstm = to_categorical(y_val_lstm, num_classes=2)\n",
    "    y_test_lstm = to_categorical(y_test_lstm, num_classes=2)\n",
    "\n",
    "X_train_gru = X_train_lstm\n",
    "X_val_gru = X_val_lstm\n",
    "X_test_gru = X_test_lstm\n",
    "y_train_gru = y_train_lstm\n",
    "y_val_gru = y_val_lstm\n",
    "y_test_gru = y_test_lstm\n",
    "\n",
    "print(f\"Zbiór treningowy ({len(train_data)}):\\t{train_data.index.min().date()} - {train_data.index.max().date()}\")\n",
    "print(f\"Zbiór walidacyjny ({len(val_data)}):\\t{val_data.index.min().date()} - {val_data.index.max().date()}\")\n",
    "print(f\"Zbiór testowy ({len(test_data)}):\\t\\t{test_data.index.min().date()} - {test_data.index.max().date()}\")\n",
    "\n",
    "print(\"\\nDla modeli LSTM i GRU:\")\n",
    "print(f\"Zbiór treningowy ({len(X_train_lstm)}):\\t{train_data.index[timesteps].date()} - {train_data.index.max().date()}\")\n",
    "print(f\"Zbiór walidacyjny ({len(X_val_lstm)}):\\t{val_data.index[timesteps].date()} - {val_data.index.max().date()}\")\n",
    "print(f\"Zbiór testowy ({len(X_test_lstm)}):\\t\\t{test_data.index[timesteps].date()} - {test_data.index.max().date()}\")"
   ]
  },
  {
   "cell_type": "code",
   "execution_count": 27,
   "metadata": {},
   "outputs": [
    {
     "name": "stdout",
     "output_type": "stream",
     "text": [
      "(1348, 8)\n",
      "(1348,)\n",
      "(184, 8)\n",
      "(184,)\n",
      "(379, 8)\n",
      "(379,)\n"
     ]
    }
   ],
   "source": [
    "print(X_train.shape)\n",
    "print(y_train.shape)\n",
    "print(X_val.shape)\n",
    "print(y_val.shape)\n",
    "print(X_test.shape)\n",
    "print(y_test.shape)"
   ]
  },
  {
   "cell_type": "code",
   "execution_count": 10,
   "metadata": {},
   "outputs": [
    {
     "name": "stdout",
     "output_type": "stream",
     "text": [
      "(1348, 10, 8)\n",
      "(184, 10, 8)\n",
      "(379, 10, 8)\n",
      "(1348,)\n",
      "(184,)\n",
      "(379,)\n"
     ]
    }
   ],
   "source": [
    "print(X_train_lstm.shape)\n",
    "print(X_val_lstm.shape)\n",
    "print(X_test_lstm.shape)\n",
    "print(y_train_lstm.shape)\n",
    "print(y_val_lstm.shape)\n",
    "print(y_test_lstm.shape)"
   ]
  },
  {
   "cell_type": "code",
   "execution_count": 11,
   "metadata": {},
   "outputs": [],
   "source": [
    "random_state = 42\n",
    "np.random.seed(random_state)\n",
    "tf.random.set_seed(random_state)"
   ]
  },
  {
   "cell_type": "markdown",
   "metadata": {},
   "source": [
    "## 1. Strojenie hiperparametrów dla Random Forest"
   ]
  },
  {
   "cell_type": "code",
   "execution_count": 12,
   "metadata": {},
   "outputs": [],
   "source": [
    "HyperparameterTuning = False\n",
    "\n",
    "if not HyperparameterTuning:\n",
    "    if prediction_type == PredictionType.TREND_DIRECTION:\n",
    "        best_rf_params = 250\n",
    "        best_gb_params = {'n_estimators': 50, 'learning_rate': 0.1}\n",
    "        best_lstm_params = {'batch_size': 16, 'epochs': 50, 'lstm_units': 50}\n",
    "        best_gru_params = {'batch_size': 16, 'epochs': 50, 'lstm_units': 50}\n",
    "    else:\n",
    "        best_rf_params = 150\n",
    "        best_gb_params = {'n_estimators': 50, 'learning_rate': 0.1}\n",
    "        best_lstm_params = {'batch_size': 16, 'epochs': 50, 'lstm_units': 100}\n",
    "        best_gru_params = {'batch_size': 16, 'epochs': 50, 'gru_units': 50}"
   ]
  },
  {
   "cell_type": "code",
   "execution_count": 13,
   "metadata": {},
   "outputs": [
    {
     "data": {
      "text/plain": [
       "150"
      ]
     },
     "execution_count": 13,
     "metadata": {},
     "output_type": "execute_result"
    }
   ],
   "source": [
    "if HyperparameterTuning:\n",
    "    best_rf_score = float('inf')\n",
    "    best_rf_params = None\n",
    "\n",
    "    for n in tqdm([50, 100, 150, 200, 250, 300], desc=\"RF Hyperparameter Tuning\"):\n",
    "        rf = RandomForestRegressor(n_estimators=n, random_state=random_state)\n",
    "        rf.fit(X_train, y_train)\n",
    "        y_pred = rf.predict(X_val)\n",
    "        score = mean_squared_error(y_val, y_pred)\n",
    "        if score < best_rf_score:\n",
    "            best_rf_score = score\n",
    "            best_rf_params = n\n",
    "best_rf_params #50"
   ]
  },
  {
   "cell_type": "markdown",
   "metadata": {},
   "source": [
    "## 2. Strojenie hiperparametrów dla Gradient Boosting"
   ]
  },
  {
   "cell_type": "code",
   "execution_count": 14,
   "metadata": {},
   "outputs": [
    {
     "data": {
      "text/plain": [
       "{'n_estimators': 50, 'learning_rate': 0.1}"
      ]
     },
     "execution_count": 14,
     "metadata": {},
     "output_type": "execute_result"
    }
   ],
   "source": [
    "if HyperparameterTuning:\n",
    "    best_gb_score = float('inf')\n",
    "    best_gb_params = {}\n",
    "\n",
    "    for n in tqdm([50, 100, 150, 200], desc=\"GB Hyperparameter Tuning - n_estimators\"):\n",
    "        for lr in tqdm([0.001, 0.01, 0.1], desc=\"GB Hyperparameter Tuning - learning_rate\"):\n",
    "            gb = GradientBoostingRegressor(n_estimators=n, learning_rate=lr, random_state=random_state)\n",
    "            gb.fit(X_train, y_train)\n",
    "            y_pred = gb.predict(X_val)\n",
    "            score = mean_squared_error(y_val, y_pred)\n",
    "            if score < best_gb_score:\n",
    "                best_gb_score = score\n",
    "                best_gb_params = {'n_estimators': n, 'learning_rate': lr}\n",
    "best_gb_params # 50, 0.1"
   ]
  },
  {
   "cell_type": "markdown",
   "metadata": {},
   "source": [
    "## 3. Strojenie hiperparametrów dla LSTM"
   ]
  },
  {
   "cell_type": "code",
   "execution_count": 15,
   "metadata": {},
   "outputs": [],
   "source": [
    "output_units = 2 if prediction_type == PredictionType.TREND_DIRECTION else 1\n",
    "activation_function = 'softmax' if prediction_type == PredictionType.TREND_DIRECTION else 'linear'\n",
    "loss_function = 'binary_crossentropy' if prediction_type == PredictionType.TREND_DIRECTION else 'mean_squared_error'"
   ]
  },
  {
   "cell_type": "code",
   "execution_count": 16,
   "metadata": {},
   "outputs": [
    {
     "data": {
      "text/plain": [
       "{'batch_size': 16, 'epochs': 50, 'lstm_units': 100}"
      ]
     },
     "execution_count": 16,
     "metadata": {},
     "output_type": "execute_result"
    }
   ],
   "source": [
    "if HyperparameterTuning:\n",
    "    best_lstm_score = float('inf')\n",
    "    best_lstm_params = {}\n",
    "\n",
    "    for batch_size in tqdm([16, 32], desc=\"LSTM Hyperparameter Tuning - batch_size\"):\n",
    "        for epochs in tqdm([50, 100], desc=\"LSTM Hyperparameter Tuning - epochs\"):\n",
    "            for lstm_units in tqdm([50, 100], desc=\"LSTM Hyperparameter Tuning - units\"):\n",
    "                model = Sequential([\n",
    "                    Input(shape=(X_train_lstm.shape[1], X_train_lstm.shape[2])),  # X_train_lstm.shape[1] to timesteps, X_train_lstm.shape[2] to features\n",
    "                    LSTM(lstm_units, return_sequences=True, kernel_initializer=tf.keras.initializers.GlorotUniform(seed=random_state)),\n",
    "                    LSTM(lstm_units, kernel_initializer=tf.keras.initializers.GlorotUniform(seed=random_state)),\n",
    "                    Dense(output_units, activation=activation_function) # 1 klasa dla regresji, 2 klasy dla klasyfikacji\n",
    "                ])\n",
    "                model.compile(optimizer=\"adam\", loss=loss_function)\n",
    "                model.fit(X_train_lstm, y_train_lstm, epochs=epochs, batch_size=batch_size, verbose=0)\n",
    "                val_loss = model.evaluate(X_val_lstm, y_val_lstm, verbose=0)\n",
    "\n",
    "                if val_loss < best_lstm_score:\n",
    "                    best_lstm_score = val_loss\n",
    "                    best_lstm_params = {'batch_size': batch_size, 'epochs': epochs, 'lstm_units': lstm_units}\n",
    "best_lstm_params # 16, 100, 100"
   ]
  },
  {
   "cell_type": "markdown",
   "metadata": {},
   "source": [
    "## 4. Strojenie hiperparametrów dla GRU"
   ]
  },
  {
   "cell_type": "code",
   "execution_count": 17,
   "metadata": {},
   "outputs": [
    {
     "data": {
      "text/plain": [
       "{'batch_size': 16, 'epochs': 50, 'gru_units': 50}"
      ]
     },
     "execution_count": 17,
     "metadata": {},
     "output_type": "execute_result"
    }
   ],
   "source": [
    "if HyperparameterTuning:\n",
    "    best_gru_score = float('inf')\n",
    "    best_gru_params = {}\n",
    "\n",
    "    for batch_size in tqdm([16, 32], desc=\"GRU Hyperparameter Tuning - batch_size\"):\n",
    "        for epochs in tqdm([50, 100], desc=\"GRU Hyperparameter Tuning - epochs\"):\n",
    "            for gru_units in tqdm([50, 100], desc=\"GRU Hyperparameter Tuning - units\"):\n",
    "                model = Sequential([\n",
    "                    Input(shape=(X_train_gru.shape[1], X_train_gru.shape[2])),\n",
    "                    GRU(gru_units, return_sequences=True, kernel_initializer=tf.keras.initializers.GlorotUniform(seed=random_state)),\n",
    "                    GRU(gru_units, kernel_initializer=tf.keras.initializers.GlorotUniform(seed=random_state)),\n",
    "                    Dense(output_units, activation=activation_function) # 1 klasa dla regresji, 2 klasy dla klasyfikacji\n",
    "                ])\n",
    "                model.compile(optimizer=\"adam\", loss=loss_function)\n",
    "                model.fit(X_train_gru, y_train_gru, epochs=epochs, batch_size=batch_size, verbose=0)\n",
    "                val_loss = model.evaluate(X_val_gru, y_val_gru, verbose=0)\n",
    "\n",
    "                if val_loss < best_gru_score:\n",
    "                    best_gru_score = val_loss\n",
    "                    best_gru_params = {'batch_size': batch_size, 'epochs': epochs, 'gru_units': gru_units}\n",
    "best_gru_params # 16, 50, 50 lub # 32, 100, 100"
   ]
  },
  {
   "cell_type": "markdown",
   "metadata": {},
   "source": [
    "# **Trenowanie modeli**"
   ]
  },
  {
   "cell_type": "markdown",
   "metadata": {},
   "source": [
    "## 1. Random Forest (RF)"
   ]
  },
  {
   "cell_type": "code",
   "execution_count": 18,
   "metadata": {},
   "outputs": [],
   "source": [
    "if prediction_type == PredictionType.TREND_DIRECTION:\n",
    "    rf_model = RandomForestClassifier(n_estimators=best_rf_params, random_state=random_state) \n",
    "else:\n",
    "    rf_model = RandomForestRegressor(n_estimators=best_rf_params, random_state=random_state)    \n",
    "rf_model.fit(X_train, y_train)\n",
    "rf_predictions = rf_model.predict(X_test)"
   ]
  },
  {
   "cell_type": "markdown",
   "metadata": {},
   "source": [
    "## 2. Gradient Boosting (GB)"
   ]
  },
  {
   "cell_type": "code",
   "execution_count": 19,
   "metadata": {},
   "outputs": [],
   "source": [
    "if prediction_type == PredictionType.TREND_DIRECTION:\n",
    "    gb_model = GradientBoostingClassifier(n_estimators=best_gb_params['n_estimators'], learning_rate=best_gb_params['learning_rate'], random_state=random_state)\n",
    "else:\n",
    "    gb_model = GradientBoostingRegressor(n_estimators=best_gb_params['n_estimators'], learning_rate=best_gb_params['learning_rate'], random_state=random_state)\n",
    "gb_model.fit(X_train, y_train)\n",
    "gb_predictions = gb_model.predict(X_test)"
   ]
  },
  {
   "cell_type": "markdown",
   "metadata": {},
   "source": [
    "## 3. Long Short-Term Memory (LSTM)"
   ]
  },
  {
   "cell_type": "code",
   "execution_count": 20,
   "metadata": {},
   "outputs": [
    {
     "name": "stdout",
     "output_type": "stream",
     "text": [
      "\u001b[1m12/12\u001b[0m \u001b[32m━━━━━━━━━━━━━━━━━━━━\u001b[0m\u001b[37m\u001b[0m \u001b[1m0s\u001b[0m 16ms/step\n"
     ]
    }
   ],
   "source": [
    "lstm_model = Sequential([\n",
    "    Input((X_train_lstm.shape[1], X_train_lstm.shape[2])),\n",
    "    LSTM(best_lstm_params['lstm_units'], return_sequences=True, kernel_initializer=tf.keras.initializers.GlorotUniform(seed=random_state)),\n",
    "    LSTM(best_lstm_params['lstm_units'], kernel_initializer=tf.keras.initializers.GlorotUniform(seed=random_state)),\n",
    "    Dense(output_units, activation=activation_function) # 1 klasa dla regresji, 2 klasy dla klasyfikacji\n",
    "])\n",
    "lstm_model.compile(optimizer=\"adam\", loss=loss_function)\n",
    "lstm_model.fit(X_train_lstm, y_train_lstm, \n",
    "               epochs=best_lstm_params['epochs'], \n",
    "               batch_size=best_lstm_params['batch_size'], \n",
    "               verbose=0)\n",
    "\n",
    "lstm_predictions = lstm_model.predict(X_test_lstm)"
   ]
  },
  {
   "cell_type": "markdown",
   "metadata": {},
   "source": [
    "## 4. Gated Recurrent Unit (GRU)"
   ]
  },
  {
   "cell_type": "code",
   "execution_count": 21,
   "metadata": {},
   "outputs": [
    {
     "name": "stdout",
     "output_type": "stream",
     "text": [
      "\u001b[1m12/12\u001b[0m \u001b[32m━━━━━━━━━━━━━━━━━━━━\u001b[0m\u001b[37m\u001b[0m \u001b[1m0s\u001b[0m 17ms/step\n"
     ]
    }
   ],
   "source": [
    "gru_model = Sequential([\n",
    "    Input((X_train_lstm.shape[1], X_train_lstm.shape[2])),\n",
    "    GRU(best_gru_params['gru_units'], return_sequences=True, kernel_initializer=tf.keras.initializers.GlorotUniform(seed=random_state)),\n",
    "    GRU(best_gru_params['gru_units'], kernel_initializer=tf.keras.initializers.GlorotUniform(seed=random_state)),\n",
    "    Dense(output_units, activation=activation_function) # 1 klasa dla regresji, 2 klasy dla klasyfikacji\n",
    "])\n",
    "gru_model.compile(optimizer=\"adam\", loss=loss_function)\n",
    "gru_model.fit(X_train_gru, y_train_gru, \n",
    "              epochs=best_gru_params['epochs'], \n",
    "              batch_size=best_gru_params['batch_size'], \n",
    "              verbose=0)\n",
    "\n",
    "gru_predictions = gru_model.predict(X_test_gru)"
   ]
  },
  {
   "cell_type": "markdown",
   "metadata": {},
   "source": [
    "# **Testowanie i ocena modeli**"
   ]
  },
  {
   "cell_type": "markdown",
   "metadata": {},
   "source": [
    "## Analiza Ważności Cech"
   ]
  },
  {
   "cell_type": "code",
   "execution_count": 22,
   "metadata": {},
   "outputs": [
    {
     "name": "stdout",
     "output_type": "stream",
     "text": [
      "\n",
      "Random Forest Feature Importance:\n"
     ]
    },
    {
     "data": {
      "text/html": [
       "<div>\n",
       "<style scoped>\n",
       "    .dataframe tbody tr th:only-of-type {\n",
       "        vertical-align: middle;\n",
       "    }\n",
       "\n",
       "    .dataframe tbody tr th {\n",
       "        vertical-align: top;\n",
       "    }\n",
       "\n",
       "    .dataframe thead th {\n",
       "        text-align: right;\n",
       "    }\n",
       "</style>\n",
       "<table border=\"1\" class=\"dataframe\">\n",
       "  <thead>\n",
       "    <tr style=\"text-align: right;\">\n",
       "      <th></th>\n",
       "      <th>Importance</th>\n",
       "    </tr>\n",
       "    <tr>\n",
       "      <th>Feature</th>\n",
       "      <th></th>\n",
       "    </tr>\n",
       "  </thead>\n",
       "  <tbody>\n",
       "    <tr>\n",
       "      <th>Close</th>\n",
       "      <td>0.575811</td>\n",
       "    </tr>\n",
       "    <tr>\n",
       "      <th>Low</th>\n",
       "      <td>0.078692</td>\n",
       "    </tr>\n",
       "    <tr>\n",
       "      <th>High</th>\n",
       "      <td>0.040419</td>\n",
       "    </tr>\n",
       "    <tr>\n",
       "      <th>EMA</th>\n",
       "      <td>0.013911</td>\n",
       "    </tr>\n",
       "    <tr>\n",
       "      <th>RSI</th>\n",
       "      <td>0.007565</td>\n",
       "    </tr>\n",
       "    <tr>\n",
       "      <th>Volume</th>\n",
       "      <td>0.000664</td>\n",
       "    </tr>\n",
       "    <tr>\n",
       "      <th>SMA</th>\n",
       "      <td>-0.002671</td>\n",
       "    </tr>\n",
       "    <tr>\n",
       "      <th>Open</th>\n",
       "      <td>-0.014751</td>\n",
       "    </tr>\n",
       "  </tbody>\n",
       "</table>\n",
       "</div>"
      ],
      "text/plain": [
       "         Importance\n",
       "Feature            \n",
       "Close      0.575811\n",
       "Low        0.078692\n",
       "High       0.040419\n",
       "EMA        0.013911\n",
       "RSI        0.007565\n",
       "Volume     0.000664\n",
       "SMA       -0.002671\n",
       "Open      -0.014751"
      ]
     },
     "metadata": {},
     "output_type": "display_data"
    },
    {
     "name": "stdout",
     "output_type": "stream",
     "text": [
      "\n",
      "Gradient Boosting Feature Importance:\n"
     ]
    },
    {
     "data": {
      "text/html": [
       "<div>\n",
       "<style scoped>\n",
       "    .dataframe tbody tr th:only-of-type {\n",
       "        vertical-align: middle;\n",
       "    }\n",
       "\n",
       "    .dataframe tbody tr th {\n",
       "        vertical-align: top;\n",
       "    }\n",
       "\n",
       "    .dataframe thead th {\n",
       "        text-align: right;\n",
       "    }\n",
       "</style>\n",
       "<table border=\"1\" class=\"dataframe\">\n",
       "  <thead>\n",
       "    <tr style=\"text-align: right;\">\n",
       "      <th></th>\n",
       "      <th>Importance</th>\n",
       "    </tr>\n",
       "    <tr>\n",
       "      <th>Feature</th>\n",
       "      <th></th>\n",
       "    </tr>\n",
       "  </thead>\n",
       "  <tbody>\n",
       "    <tr>\n",
       "      <th>Close</th>\n",
       "      <td>0.472941</td>\n",
       "    </tr>\n",
       "    <tr>\n",
       "      <th>Low</th>\n",
       "      <td>0.040186</td>\n",
       "    </tr>\n",
       "    <tr>\n",
       "      <th>SMA</th>\n",
       "      <td>0.019592</td>\n",
       "    </tr>\n",
       "    <tr>\n",
       "      <th>High</th>\n",
       "      <td>0.014711</td>\n",
       "    </tr>\n",
       "    <tr>\n",
       "      <th>Open</th>\n",
       "      <td>0.010525</td>\n",
       "    </tr>\n",
       "    <tr>\n",
       "      <th>RSI</th>\n",
       "      <td>0.009288</td>\n",
       "    </tr>\n",
       "    <tr>\n",
       "      <th>EMA</th>\n",
       "      <td>0.008827</td>\n",
       "    </tr>\n",
       "    <tr>\n",
       "      <th>Volume</th>\n",
       "      <td>0.002599</td>\n",
       "    </tr>\n",
       "  </tbody>\n",
       "</table>\n",
       "</div>"
      ],
      "text/plain": [
       "         Importance\n",
       "Feature            \n",
       "Close      0.472941\n",
       "Low        0.040186\n",
       "SMA        0.019592\n",
       "High       0.014711\n",
       "Open       0.010525\n",
       "RSI        0.009288\n",
       "EMA        0.008827\n",
       "Volume     0.002599"
      ]
     },
     "metadata": {},
     "output_type": "display_data"
    }
   ],
   "source": [
    "rf_importance = permutation_importance(rf_model, X_test, y_test, n_repeats=10, random_state=42)\n",
    "rf_feature_importance = rf_importance.importances_mean\n",
    "\n",
    "gb_importance = permutation_importance(gb_model, X_test, y_test, n_repeats=10, random_state=42)\n",
    "gb_feature_importance = gb_importance.importances_mean\n",
    "\n",
    "rf_results = pd.DataFrame({\n",
    "    'Feature': training_features,\n",
    "    'Importance': rf_feature_importance\n",
    "}).sort_values(by='Importance', ascending=False)\n",
    "\n",
    "gb_results = pd.DataFrame({\n",
    "    'Feature': training_features,\n",
    "    'Importance': gb_feature_importance\n",
    "}).sort_values(by='Importance', ascending=False)\n",
    "\n",
    "rf_results.set_index('Feature', inplace=True)\n",
    "gb_results.set_index('Feature', inplace=True)\n",
    "\n",
    "print(\"\\nRandom Forest Feature Importance:\")\n",
    "display(rf_results)\n",
    "print(\"\\nGradient Boosting Feature Importance:\")\n",
    "display(gb_results)"
   ]
  },
  {
   "cell_type": "markdown",
   "metadata": {},
   "source": [
    "Jak widać Cena z poprzedniego interwału najbardziej wpływa na przewidywania ceny w przyszłości, co jest dosyć intuicyjne. Niestety dodane wskaźniki techniczne praktycznie nie wpłynęły na decyzje modeli."
   ]
  },
  {
   "cell_type": "markdown",
   "metadata": {},
   "source": [
    "## Porównanie modeli na wykresie"
   ]
  },
  {
   "cell_type": "code",
   "execution_count": 23,
   "metadata": {},
   "outputs": [
    {
     "data": {
      "image/png": "[encoded data removed]",
      "text/plain": [
       "<Figure size 1600x1200 with 4 Axes>"
      ]
     },
     "metadata": {},
     "output_type": "display_data"
    }
   ],
   "source": [
    "if prediction_type != PredictionType.TREND_DIRECTION:\n",
    "    def inverse_scale_predictions(predictions, scaler, column_index=0):\n",
    "        expanded_predictions = np.zeros((len(predictions), scaler.n_features_in_))\n",
    "        expanded_predictions[:, column_index] = predictions\n",
    "        return scaler.inverse_transform(expanded_predictions)[:, column_index]\n",
    "\n",
    "    def plot_predictions(title, model_name, actual_values, predictions, timestamps):\n",
    "        min_length = min(len(timestamps), len(actual_values), len(predictions))\n",
    "        timestamps = timestamps[:min_length]\n",
    "        actual_values = actual_values[:min_length]\n",
    "        predictions = predictions[:min_length]\n",
    "        plt.plot(timestamps, actual_values, label=f'Actual {title}', color='blue')\n",
    "        plt.plot(timestamps, predictions, label=f'Predicted {title} ({model_name})', color='red')\n",
    "        plt.title(f'Actual vs Predicted {title} ({model_name})')\n",
    "        plt.xlabel('Timestamp')\n",
    "        plt.legend()\n",
    "\n",
    "    y_pred_rf_rescaled = inverse_scale_predictions(rf_predictions, scaler)\n",
    "    y_pred_gb_rescaled = inverse_scale_predictions(gb_predictions, scaler)\n",
    "    y_pred_lstm_rescaled = inverse_scale_predictions(lstm_predictions.ravel(), scaler)\n",
    "    y_pred_gru_rescaled = inverse_scale_predictions(gru_predictions.ravel(), scaler)\n",
    "\n",
    "    y_test_rescaled = inverse_scale_predictions(y_test, scaler)\n",
    "\n",
    "    test_data_reset = test_data.reset_index()\n",
    "    timestamps = test_data_reset['Timestamp'].values  \n",
    "    actual_values = y_test_rescaled\n",
    "\n",
    "    models = {\n",
    "        'RF': y_pred_rf_rescaled,\n",
    "        'GB': y_pred_gb_rescaled,\n",
    "        'LSTM': y_pred_lstm_rescaled,\n",
    "        'GRU': y_pred_gru_rescaled\n",
    "    }\n",
    "\n",
    "    if prediction_type == PredictionType.CURRENT_CLOSE_PRICE:\n",
    "        title = \"Current Close Price\"\n",
    "    elif prediction_type == PredictionType.FUTURE_CLOSE_PRICE:\n",
    "        title = \"Future Close Price\"\n",
    "    elif prediction_type == PredictionType.TREND_DIRECTION:\n",
    "        title = \"Trend Direction\"\n",
    "    elif prediction_type == PredictionType.FUTURE_PRICE_CHANGE:\n",
    "        title = \"Price Change\"\n",
    "\n",
    "    plt.figure(figsize=(16, 12))  \n",
    "    for idx, (model_name, predictions) in enumerate(models.items(), start=1):\n",
    "        plt.subplot(2, 2, idx)\n",
    "        plot_predictions(title, model_name, actual_values, predictions, timestamps)\n",
    "    plt.tight_layout()  \n",
    "    plt.show()"
   ]
  },
  {
   "cell_type": "markdown",
   "metadata": {},
   "source": [
    "Modele Random Forest (RF) i Gradient Boosting (GB) oparte na drzewach decyzyjnych, mają tendencję do ograniczania swoich przewidywań do zakresu danych, które były dostępne w trakcie trenowania, a poza nimi nie potrafią ekstrapolować. Na tych danych testowych widać, że nie poradziły sobie z przewidzeniem ceny gdy wzrosły ponad wartości dostępne w danych treningowych."
   ]
  },
  {
   "cell_type": "markdown",
   "metadata": {},
   "source": [
    "## Miarowanie Wydajności (RMSE, MSE, MAE, R²)"
   ]
  },
  {
   "cell_type": "markdown",
   "metadata": {},
   "source": [
    "- RMSE - Im mniejsze, tym lepiej\n",
    "- MSE  - Im mniejsze, tym lepiej\n",
    "- MAE  - Im mniejsze, tym lepiej\n",
    "- R²   - Im większe, tym lepiej"
   ]
  },
  {
   "cell_type": "code",
   "execution_count": 24,
   "metadata": {},
   "outputs": [
    {
     "data": {
      "text/html": [
       "<div>\n",
       "<style scoped>\n",
       "    .dataframe tbody tr th:only-of-type {\n",
       "        vertical-align: middle;\n",
       "    }\n",
       "\n",
       "    .dataframe tbody tr th {\n",
       "        vertical-align: top;\n",
       "    }\n",
       "\n",
       "    .dataframe thead th {\n",
       "        text-align: right;\n",
       "    }\n",
       "</style>\n",
       "<table border=\"1\" class=\"dataframe\">\n",
       "  <thead>\n",
       "    <tr style=\"text-align: right;\">\n",
       "      <th></th>\n",
       "      <th>RMSE</th>\n",
       "      <th>MSE</th>\n",
       "      <th>MAE</th>\n",
       "      <th>R2</th>\n",
       "    </tr>\n",
       "    <tr>\n",
       "      <th>Model</th>\n",
       "      <th></th>\n",
       "      <th></th>\n",
       "      <th></th>\n",
       "      <th></th>\n",
       "    </tr>\n",
       "  </thead>\n",
       "  <tbody>\n",
       "    <tr>\n",
       "      <th>RF</th>\n",
       "      <td>0.1201</td>\n",
       "      <td>0.0144</td>\n",
       "      <td>0.0623</td>\n",
       "      <td>0.3428</td>\n",
       "    </tr>\n",
       "    <tr>\n",
       "      <th>GB</th>\n",
       "      <td>0.1219</td>\n",
       "      <td>0.0149</td>\n",
       "      <td>0.0644</td>\n",
       "      <td>0.3226</td>\n",
       "    </tr>\n",
       "    <tr>\n",
       "      <th>LSTM</th>\n",
       "      <td>0.0367</td>\n",
       "      <td>0.0013</td>\n",
       "      <td>0.0260</td>\n",
       "      <td>0.9386</td>\n",
       "    </tr>\n",
       "    <tr>\n",
       "      <th>GRU</th>\n",
       "      <td>0.0310</td>\n",
       "      <td>0.0010</td>\n",
       "      <td>0.0224</td>\n",
       "      <td>0.9562</td>\n",
       "    </tr>\n",
       "  </tbody>\n",
       "</table>\n",
       "</div>"
      ],
      "text/plain": [
       "         RMSE     MSE     MAE      R2\n",
       "Model                                \n",
       "RF     0.1201  0.0144  0.0623  0.3428\n",
       "GB     0.1219  0.0149  0.0644  0.3226\n",
       "LSTM   0.0367  0.0013  0.0260  0.9386\n",
       "GRU    0.0310  0.0010  0.0224  0.9562"
      ]
     },
     "metadata": {},
     "output_type": "display_data"
    }
   ],
   "source": [
    "if prediction_type != PredictionType.TREND_DIRECTION:\n",
    "    metrics = []\n",
    "\n",
    "    def calculate_metrics(model_name, y_test, predictions):\n",
    "        rmse = root_mean_squared_error(y_test, predictions)\n",
    "        mse = mean_squared_error(y_test, predictions)\n",
    "        mae = mean_absolute_error(y_test, predictions)\n",
    "        r2 = r2_score(y_test, predictions)\n",
    "        return {\n",
    "            'Model': model_name,\n",
    "            'RMSE': rmse,\n",
    "            'MSE': mse,\n",
    "            'MAE': mae,\n",
    "            'R2': r2\n",
    "        }\n",
    "\n",
    "    metrics.append(calculate_metrics('RF', y_test, rf_predictions))\n",
    "    metrics.append(calculate_metrics('GB', y_test, gb_predictions))\n",
    "    metrics.append(calculate_metrics('LSTM', y_test_lstm, lstm_predictions))\n",
    "    metrics.append(calculate_metrics('GRU', y_test_gru, gru_predictions))\n",
    "\n",
    "    metrics_regression = pd.DataFrame(metrics)\n",
    "    metrics_regression.set_index('Model', inplace=True)\n",
    "    metrics_regression = metrics_regression.round(4)\n",
    "    display(metrics_regression)"
   ]
  },
  {
   "cell_type": "markdown",
   "metadata": {},
   "source": [
    "Na podstawie wyników ewaluacji regresji, modele LSTM oraz GRU osiągnęły najlepsze wyniki. Niemniej jednak, ich obiecująca dokładność powinna być oceniana w kontekście praktycznego zastosowania modelu, zwłaszcza pod kątem tego, czy przewidywana cena wykazuje podobny trend do rzeczywistej ceny, a nie tylko dokładność punktową. Istotne jest, aby modele dobrze odwzorowywały dynamikę rynku, a nie tylko dopasowywały się do historycznych danych."
   ]
  },
  {
   "cell_type": "markdown",
   "metadata": {},
   "source": [
    "## Miarowanie Wydajności (Accuracy, Precision, Recall, F1-Score)"
   ]
  },
  {
   "cell_type": "markdown",
   "metadata": {},
   "source": [
    "Aby lepiej zobrazować dokładność modeli oraz ich potencjalną opłacalność w przewidywaniu cen, można potraktować problem regresji jako klasyfikację. W tym przypadku polega to na przekształceniu prognozowanych cen na wartości dyskretne, które będą reprezentować kierunek trendu, na przykład jako wzrost jako 1 i spadek jako 0. Taki sposób analizy pozwala na ocenę, czy modele są w stanie przewidywać zmiany rynkowe w sposób, który może być wykorzystany do podejmowania decyzji inwestycyjnych."
   ]
  },
  {
   "cell_type": "code",
   "execution_count": 25,
   "metadata": {},
   "outputs": [
    {
     "data": {
      "text/html": [
       "<div>\n",
       "<style scoped>\n",
       "    .dataframe tbody tr th:only-of-type {\n",
       "        vertical-align: middle;\n",
       "    }\n",
       "\n",
       "    .dataframe tbody tr th {\n",
       "        vertical-align: top;\n",
       "    }\n",
       "\n",
       "    .dataframe thead th {\n",
       "        text-align: right;\n",
       "    }\n",
       "</style>\n",
       "<table border=\"1\" class=\"dataframe\">\n",
       "  <thead>\n",
       "    <tr style=\"text-align: right;\">\n",
       "      <th></th>\n",
       "      <th>Accuracy</th>\n",
       "      <th>Precision</th>\n",
       "      <th>Recall</th>\n",
       "      <th>F1-score</th>\n",
       "    </tr>\n",
       "    <tr>\n",
       "      <th>Model</th>\n",
       "      <th></th>\n",
       "      <th></th>\n",
       "      <th></th>\n",
       "      <th></th>\n",
       "    </tr>\n",
       "  </thead>\n",
       "  <tbody>\n",
       "    <tr>\n",
       "      <th>RF</th>\n",
       "      <td>0.49</td>\n",
       "      <td>0.53</td>\n",
       "      <td>0.48</td>\n",
       "      <td>0.50</td>\n",
       "    </tr>\n",
       "    <tr>\n",
       "      <th>GB</th>\n",
       "      <td>0.52</td>\n",
       "      <td>0.57</td>\n",
       "      <td>0.41</td>\n",
       "      <td>0.47</td>\n",
       "    </tr>\n",
       "    <tr>\n",
       "      <th>LSTM</th>\n",
       "      <td>0.51</td>\n",
       "      <td>0.54</td>\n",
       "      <td>0.54</td>\n",
       "      <td>0.54</td>\n",
       "    </tr>\n",
       "    <tr>\n",
       "      <th>GRU</th>\n",
       "      <td>0.51</td>\n",
       "      <td>0.54</td>\n",
       "      <td>0.55</td>\n",
       "      <td>0.55</td>\n",
       "    </tr>\n",
       "  </tbody>\n",
       "</table>\n",
       "</div>"
      ],
      "text/plain": [
       "       Accuracy  Precision  Recall  F1-score\n",
       "Model                                       \n",
       "RF         0.49       0.53    0.48      0.50\n",
       "GB         0.52       0.57    0.41      0.47\n",
       "LSTM       0.51       0.54    0.54      0.54\n",
       "GRU        0.51       0.54    0.55      0.55"
      ]
     },
     "metadata": {},
     "output_type": "display_data"
    }
   ],
   "source": [
    "def evaluate_classification_metrics(actual_values, predicted_values):\n",
    "    min_length = min(len(actual_values), len(predicted_values))\n",
    "    actual_values = actual_values[:min_length]\n",
    "    actual_changes = np.sign(np.diff(actual_values))\n",
    "    predicted_changes = np.sign(np.diff(predicted_values))\n",
    "    \n",
    "    actual_changes_binary = (actual_changes > 0).astype(int)\n",
    "    predicted_changes_binary = (predicted_changes > 0).astype(int)\n",
    "    \n",
    "    accuracy = accuracy_score(actual_changes_binary, predicted_changes_binary)\n",
    "    precision = precision_score(actual_changes_binary, predicted_changes_binary)\n",
    "    recall = recall_score(actual_changes_binary, predicted_changes_binary)\n",
    "    f1 = f1_score(actual_changes_binary, predicted_changes_binary)\n",
    "    \n",
    "    return accuracy, precision, recall, f1\n",
    "\n",
    "metrics_classification = []\n",
    "\n",
    "models_predictions = {\n",
    "    'RF': y_pred_rf_rescaled,\n",
    "    'GB': y_pred_gb_rescaled,\n",
    "    'LSTM': y_pred_lstm_rescaled,\n",
    "    'GRU': y_pred_gru_rescaled\n",
    "}\n",
    "\n",
    "for model, predictions in models_predictions.items():\n",
    "\n",
    "    accuracy, precision, recall, f1 = evaluate_classification_metrics(actual_values, predictions)\n",
    "    \n",
    "    model_classification_metrics = {\n",
    "        'Model': model,\n",
    "        'Accuracy': round(accuracy, 2),\n",
    "        'Precision': round(precision, 2),\n",
    "        'Recall': round(recall, 2),\n",
    "        'F1-score': round(f1, 2)\n",
    "    }\n",
    "    \n",
    "    metrics_classification.append(model_classification_metrics)\n",
    "\n",
    "metrics_classification_df = pd.DataFrame(metrics_classification)\n",
    "metrics_classification_df.set_index('Model', inplace=True)\n",
    "\n",
    "display(metrics_classification_df)"
   ]
  },
  {
   "cell_type": "markdown",
   "metadata": {},
   "source": [
    "Na podstawie wyników ewaluacji klasyfikacji najlepszy okazał się model Random Forest. Niemniej jednak, w praktyce, jeżeli celem byłoby podejmowanie decyzji o inwestowaniu w BTC na podstawie tego modelu, efekt mógłby być równie przypadkowy, jak codzienne rzucanie monetą. Model w tym przypadku nie zapewnia istotnej przewagi w podejmowaniu decyzji, a jego skuteczność w realnych warunkach rynkowych może być ograniczona."
   ]
  }
 ],
 "metadata": {
  "kernelspec": {
   "display_name": "Python 3",
   "language": "python",
   "name": "python3"
  },
  "language_info": {
   "codemirror_mode": {
    "name": "ipython",
    "version": 3
   },
   "file_extension": ".py",
   "mimetype": "text/x-python",
   "name": "python",
   "nbconvert_exporter": "python",
   "pygments_lexer": "ipython3",
   "version": "3.12.3"
  }
 },
 "nbformat": 4,
 "nbformat_minor": 2
}
